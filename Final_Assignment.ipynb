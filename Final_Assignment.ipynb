{
 "cells": [
  {
   "cell_type": "markdown",
   "id": "33a0d489-e248-4402-9dd3-78034daeb042",
   "metadata": {},
   "source": [
    "# My Jupyter Notebook on IBM Watson Studio"
   ]
  },
  {
   "cell_type": "markdown",
   "id": "327958c6-1c85-4299-908d-0e6fd01c02d0",
   "metadata": {},
   "source": [
    "**Sandeep Ojha**\n",
    "  \n",
    "  Mechanical Engineer"
   ]
  },
  {
   "cell_type": "markdown",
   "id": "1a33542a-8990-4cc9-8b7c-da6cf3920b91",
   "metadata": {},
   "source": [
    "*I am interested in data science because i love playing with Data*"
   ]
  },
  {
   "cell_type": "markdown",
   "id": "a2d669eb-935d-48d6-81d0-9b8ae45459ae",
   "metadata": {},
   "source": [
    "### The following code prints a string \"hello Ibm\"."
   ]
  },
  {
   "cell_type": "code",
   "execution_count": 1,
   "id": "5d90634e-623a-404d-8dfe-5c5ebb24473e",
   "metadata": {},
   "outputs": [
    {
     "name": "stdout",
     "output_type": "stream",
     "text": [
      "Hello IBM\n"
     ]
    }
   ],
   "source": [
    "print(\"Hello IBM\")\n"
   ]
  },
  {
   "cell_type": "markdown",
   "id": "84d6d4f4-a781-4ae0-8528-ac41ac548b90",
   "metadata": {},
   "source": [
    "Markdown | Less | Pretty\n",
    "--- | --- | ---\n",
    "*Still* | `renders` | **nicely**\n",
    "1 | 2 | 3"
   ]
  },
  {
   "cell_type": "code",
   "execution_count": null,
   "id": "7ec5a43b-455a-43eb-b766-80e4b16c45a6",
   "metadata": {},
   "outputs": [],
   "source": []
  }
 ],
 "metadata": {
  "kernelspec": {
   "display_name": "Python",
   "language": "python",
   "name": "conda-env-python-py"
  },
  "language_info": {
   "codemirror_mode": {
    "name": "ipython",
    "version": 3
   },
   "file_extension": ".py",
   "mimetype": "text/x-python",
   "name": "python",
   "nbconvert_exporter": "python",
   "pygments_lexer": "ipython3",
   "version": "3.7.12"
  },
  "toc-autonumbering": false,
  "toc-showcode": true,
  "toc-showmarkdowntxt": false,
  "toc-showtags": false
 },
 "nbformat": 4,
 "nbformat_minor": 5
}
